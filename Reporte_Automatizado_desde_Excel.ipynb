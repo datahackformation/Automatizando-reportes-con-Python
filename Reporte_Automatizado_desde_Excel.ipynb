{
  "nbformat": 4,
  "nbformat_minor": 0,
  "metadata": {
    "colab": {
      "name": "Reporte Automatizado desde Excel.ipynb",
      "provenance": [],
      "collapsed_sections": [],
      "toc_visible": true
    },
    "kernelspec": {
      "name": "python3",
      "display_name": "Python 3"
    }
  },
  "cells": [
    {
      "cell_type": "code",
      "metadata": {
        "id": "D7IKUVGJzJz7",
        "colab_type": "code",
        "colab": {}
      },
      "source": [
        "import pandas as pd\n",
        "import matplotlib.pyplot as plt"
      ],
      "execution_count": 5,
      "outputs": []
    },
    {
      "cell_type": "code",
      "metadata": {
        "id": "_kXUwmBsz6T5",
        "colab_type": "code",
        "colab": {}
      },
      "source": [
        "#Nombramos los archivos para hacerlo sencillo\n",
        "excel_1 = \"Reporte1y2.xlsx\"\n",
        "excel_2 = \"Reporte3.xlsx\""
      ],
      "execution_count": 17,
      "outputs": []
    },
    {
      "cell_type": "code",
      "metadata": {
        "id": "4MqhZukG0SRn",
        "colab_type": "code",
        "colab": {}
      },
      "source": [
        "#Los leemos\n",
        "primer_reporte = pd.read_excel(excel_1, sheet_name=0)\n",
        "segundo_reporte = pd.read_excel(excel_1, sheet_name=1)\n",
        "tercer_reporte = pd.read_excel(excel_2)"
      ],
      "execution_count": 18,
      "outputs": []
    },
    {
      "cell_type": "code",
      "metadata": {
        "id": "DJCylk2N0l6L",
        "colab_type": "code",
        "colab": {
          "base_uri": "https://localhost:8080/",
          "height": 153
        },
        "outputId": "d3591855-8c70-4b9a-b1d9-5c97d164fce9"
      },
      "source": [
        "#Revisamos las primeras 5 filas que hay en el primer reporte\n",
        "print(primer_reporte.head())"
      ],
      "execution_count": 8,
      "outputs": [
        {
          "output_type": "stream",
          "text": [
            "   Reporte      ID  ... Tiempo de produccion (Min) Productos Producidos (Units)\n",
            "0        1  123654  ...                         46                          107\n",
            "1        1  123498  ...                         56                           20\n",
            "2        1  123999  ...                         42                           65\n",
            "3        1  123654  ...                         47                           83\n",
            "4        1  123498  ...                         54                           58\n",
            "\n",
            "[5 rows x 6 columns]\n"
          ],
          "name": "stdout"
        }
      ]
    },
    {
      "cell_type": "code",
      "metadata": {
        "id": "ddFAnJp11aia",
        "colab_type": "code",
        "colab": {
          "base_uri": "https://localhost:8080/",
          "height": 68
        },
        "outputId": "09a60fa4-777b-4515-f1b6-af66bdfd5cd4"
      },
      "source": [
        "#Revisamos las columnas\n",
        "primer_reporte.columns"
      ],
      "execution_count": 9,
      "outputs": [
        {
          "output_type": "execute_result",
          "data": {
            "text/plain": [
              "Index(['Reporte', 'ID', 'Nombres', 'Producto', 'Tiempo de produccion (Min)',\n",
              "       'Productos Producidos (Units)'],\n",
              "      dtype='object')"
            ]
          },
          "metadata": {
            "tags": []
          },
          "execution_count": 9
        }
      ]
    },
    {
      "cell_type": "code",
      "metadata": {
        "id": "Bv88WQ6j1eFa",
        "colab_type": "code",
        "colab": {
          "base_uri": "https://localhost:8080/",
          "height": 527
        },
        "outputId": "8dbba0e9-00a5-495b-aae4-0af10995aff5"
      },
      "source": [
        "#Revisamos la columna 'Producto'\n",
        "primer_reporte['Producto']"
      ],
      "execution_count": 10,
      "outputs": [
        {
          "output_type": "execute_result",
          "data": {
            "text/plain": [
              "0     Pepperoni\n",
              "1        Cheese\n",
              "2      Mushroom\n",
              "3     Pepperoni\n",
              "4      Mushroom\n",
              "5        Cheese\n",
              "6        Cheese\n",
              "7       Sausage\n",
              "8     Pepperoni\n",
              "9      Mushroom\n",
              "10       Cheese\n",
              "11      Sausage\n",
              "12    Pepperoni\n",
              "13     Mushroom\n",
              "14       Cheese\n",
              "15      Sausage\n",
              "16     Mushroom\n",
              "17    Pepperoni\n",
              "18       Cheese\n",
              "19      Sausage\n",
              "20     Mushroom\n",
              "21      Sausage\n",
              "22    Pepperoni\n",
              "23       Cheese\n",
              "24     Mushroom\n",
              "25    Pepperoni\n",
              "26       Cheese\n",
              "27      Sausage\n",
              "28     Mushroom\n",
              "Name: Producto, dtype: object"
            ]
          },
          "metadata": {
            "tags": []
          },
          "execution_count": 10
        }
      ]
    },
    {
      "cell_type": "code",
      "metadata": {
        "id": "EPfQi4Gh1jMv",
        "colab_type": "code",
        "colab": {}
      },
      "source": [
        "#Juntamos los reportes en uno solo\n",
        "df_all = pd.concat([primer_reporte, segundo_reporte, tercer_reporte], ignore_index=True)"
      ],
      "execution_count": 11,
      "outputs": []
    },
    {
      "cell_type": "code",
      "metadata": {
        "id": "Wx2j0TuV18Tj",
        "colab_type": "code",
        "colab": {
          "base_uri": "https://localhost:8080/",
          "height": 255
        },
        "outputId": "b8e42673-00ef-4fb8-8442-8a13ed8c6b59"
      },
      "source": [
        "#Revisamos\n",
        "print(df_all)"
      ],
      "execution_count": 12,
      "outputs": [
        {
          "output_type": "stream",
          "text": [
            "    Reporte      ID  ... Tiempo de produccion (Min) Productos Producidos (Units)\n",
            "0         1  123654  ...                         46                          107\n",
            "1         1  123498  ...                         56                           20\n",
            "2         1  123999  ...                         42                           65\n",
            "3         1  123654  ...                         47                           83\n",
            "4         1  123498  ...                         54                           58\n",
            "..      ...     ...  ...                        ...                          ...\n",
            "82        3  322488  ...                         42                          134\n",
            "83        3  322486  ...                         43                          132\n",
            "84        3  322976  ...                         47                          143\n",
            "85        3  322488  ...                         45                          136\n",
            "86        3  322976  ...                         44                          132\n",
            "\n",
            "[87 rows x 6 columns]\n"
          ],
          "name": "stdout"
        }
      ]
    },
    {
      "cell_type": "code",
      "metadata": {
        "id": "IsoknS9Z19vW",
        "colab_type": "code",
        "colab": {
          "base_uri": "https://localhost:8080/",
          "height": 173
        },
        "outputId": "83892f69-2f18-4067-9c15-12111caddac1"
      },
      "source": [
        "#Agrupamos el reporte general por reportes: Tabla dinámica\n",
        "pivot = df_all.groupby('Reporte').mean()\n",
        "pivot"
      ],
      "execution_count": 13,
      "outputs": [
        {
          "output_type": "execute_result",
          "data": {
            "text/html": [
              "<div>\n",
              "<style scoped>\n",
              "    .dataframe tbody tr th:only-of-type {\n",
              "        vertical-align: middle;\n",
              "    }\n",
              "\n",
              "    .dataframe tbody tr th {\n",
              "        vertical-align: top;\n",
              "    }\n",
              "\n",
              "    .dataframe thead th {\n",
              "        text-align: right;\n",
              "    }\n",
              "</style>\n",
              "<table border=\"1\" class=\"dataframe\">\n",
              "  <thead>\n",
              "    <tr style=\"text-align: right;\">\n",
              "      <th></th>\n",
              "      <th>ID</th>\n",
              "      <th>Tiempo de produccion (Min)</th>\n",
              "      <th>Productos Producidos (Units)</th>\n",
              "    </tr>\n",
              "    <tr>\n",
              "      <th>Reporte</th>\n",
              "      <th></th>\n",
              "      <th></th>\n",
              "      <th></th>\n",
              "    </tr>\n",
              "  </thead>\n",
              "  <tbody>\n",
              "    <tr>\n",
              "      <th>1</th>\n",
              "      <td>123716.655172</td>\n",
              "      <td>44.689655</td>\n",
              "      <td>54.482759</td>\n",
              "    </tr>\n",
              "    <tr>\n",
              "      <th>2</th>\n",
              "      <td>223583.241379</td>\n",
              "      <td>43.689655</td>\n",
              "      <td>80.103448</td>\n",
              "    </tr>\n",
              "    <tr>\n",
              "      <th>3</th>\n",
              "      <td>322593.827586</td>\n",
              "      <td>43.034483</td>\n",
              "      <td>128.448276</td>\n",
              "    </tr>\n",
              "  </tbody>\n",
              "</table>\n",
              "</div>"
            ],
            "text/plain": [
              "                    ID  ...  Productos Producidos (Units)\n",
              "Reporte                 ...                              \n",
              "1        123716.655172  ...                     54.482759\n",
              "2        223583.241379  ...                     80.103448\n",
              "3        322593.827586  ...                    128.448276\n",
              "\n",
              "[3 rows x 3 columns]"
            ]
          },
          "metadata": {
            "tags": []
          },
          "execution_count": 13
        }
      ]
    },
    {
      "cell_type": "code",
      "metadata": {
        "id": "q-6EeLzQ2aw2",
        "colab_type": "code",
        "colab": {
          "base_uri": "https://localhost:8080/",
          "height": 173
        },
        "outputId": "77e62484-e773-4d62-9d56-7825d2b2d3f7"
      },
      "source": [
        "#Seleccionamos lo que nos interesa\n",
        "reporte_productividad = pivot.loc[:,\"Tiempo de produccion (Min)\":\"Productos Producidos (Units)\"]\n",
        "reporte_productividad"
      ],
      "execution_count": 14,
      "outputs": [
        {
          "output_type": "execute_result",
          "data": {
            "text/html": [
              "<div>\n",
              "<style scoped>\n",
              "    .dataframe tbody tr th:only-of-type {\n",
              "        vertical-align: middle;\n",
              "    }\n",
              "\n",
              "    .dataframe tbody tr th {\n",
              "        vertical-align: top;\n",
              "    }\n",
              "\n",
              "    .dataframe thead th {\n",
              "        text-align: right;\n",
              "    }\n",
              "</style>\n",
              "<table border=\"1\" class=\"dataframe\">\n",
              "  <thead>\n",
              "    <tr style=\"text-align: right;\">\n",
              "      <th></th>\n",
              "      <th>Tiempo de produccion (Min)</th>\n",
              "      <th>Productos Producidos (Units)</th>\n",
              "    </tr>\n",
              "    <tr>\n",
              "      <th>Reporte</th>\n",
              "      <th></th>\n",
              "      <th></th>\n",
              "    </tr>\n",
              "  </thead>\n",
              "  <tbody>\n",
              "    <tr>\n",
              "      <th>1</th>\n",
              "      <td>44.689655</td>\n",
              "      <td>54.482759</td>\n",
              "    </tr>\n",
              "    <tr>\n",
              "      <th>2</th>\n",
              "      <td>43.689655</td>\n",
              "      <td>80.103448</td>\n",
              "    </tr>\n",
              "    <tr>\n",
              "      <th>3</th>\n",
              "      <td>43.034483</td>\n",
              "      <td>128.448276</td>\n",
              "    </tr>\n",
              "  </tbody>\n",
              "</table>\n",
              "</div>"
            ],
            "text/plain": [
              "         Tiempo de produccion (Min)  Productos Producidos (Units)\n",
              "Reporte                                                          \n",
              "1                         44.689655                     54.482759\n",
              "2                         43.689655                     80.103448\n",
              "3                         43.034483                    128.448276"
            ]
          },
          "metadata": {
            "tags": []
          },
          "execution_count": 14
        }
      ]
    },
    {
      "cell_type": "code",
      "metadata": {
        "id": "eAgnNQFy2xOa",
        "colab_type": "code",
        "colab": {
          "base_uri": "https://localhost:8080/",
          "height": 279
        },
        "outputId": "494850f0-8c64-4ae3-f816-f383283aa58d"
      },
      "source": [
        "#Graficamos el reporte\n",
        "#Utilizando estilo de ggplot (librería de R)\n",
        "plt.style.use(\"ggplot\")\n",
        "reporte_productividad.plot(kind='bar')\n",
        "plt.show()"
      ],
      "execution_count": 15,
      "outputs": [
        {
          "output_type": "display_data",
          "data": {
            "image/png": "[encoded data removed]",
            "text/plain": [
              "<Figure size 432x288 with 1 Axes>"
            ]
          },
          "metadata": {
            "tags": []
          }
        }
      ]
    },
    {
      "cell_type": "code",
      "metadata": {
        "id": "XCjjqaQl24o5",
        "colab_type": "code",
        "colab": {}
      },
      "source": [
        "#Exportamos el reporte unido\n",
        "df_all.to_excel(\"reportes.xlsx\")"
      ],
      "execution_count": 16,
      "outputs": []
    },
    {
      "cell_type": "code",
      "metadata": {
        "id": "xffaz1q13IBW",
        "colab_type": "code",
        "colab": {}
      },
      "source": [
        ""
      ],
      "execution_count": null,
      "outputs": []
    }
  ]
}